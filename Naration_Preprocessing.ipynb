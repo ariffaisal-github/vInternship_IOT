{
 "cells": [
  {
   "cell_type": "code",
   "execution_count": null,
   "metadata": {
    "id": "6tZJBqzyFwd4"
   },
   "outputs": [],
   "source": [
    "import numpy as np\n",
    "import pandas as pd\n",
    "import spacy\n",
    "import PreprocessingUtil as util"
   ]
  },
  {
   "cell_type": "code",
   "execution_count": null,
   "metadata": {
    "id": "S_dp4B9BPsZr"
   },
   "outputs": [],
   "source": [
    "data = pd.read_csv('Transaction_Naration_Data_Set.csv')"
   ]
  },
  {
   "cell_type": "code",
   "execution_count": null,
   "metadata": {
    "id": "luEWGQBcQgDe"
   },
   "outputs": [],
   "source": [
    "data['NARATION'] = data['NARATION'].str.lower()"
   ]
  },
  {
   "cell_type": "code",
   "execution_count": null,
   "metadata": {},
   "outputs": [],
   "source": [
    "data['NARATION'] = data['NARATION'].astype(str)"
   ]
  },
  {
   "cell_type": "code",
   "execution_count": null,
   "metadata": {},
   "outputs": [],
   "source": [
    "data['Processed_Naration'] = data['NARATION'].apply(lambda _: util.clean_naration(_))"
   ]
  },
  {
   "cell_type": "code",
   "execution_count": null,
   "metadata": {
    "id": "b-eFHmUT-5bu"
   },
   "outputs": [],
   "source": [
    "data['Processed_Naration'] = util.remove_special_chars(data['NARATION'])"
   ]
  },
  {
   "cell_type": "code",
   "execution_count": null,
   "metadata": {
    "id": "6rYJDKpUfxsa"
   },
   "outputs": [],
   "source": [
    "data['Processed_Naration'] = data['Processed_Naration'].apply(lambda words : util.remove_stop_words(words))"
   ]
  },
  {
   "cell_type": "code",
   "execution_count": null,
   "metadata": {
    "id": "5UzejTX0FHe3"
   },
   "outputs": [],
   "source": [
    "data['Processed_Naration'] = data['Processed_Naration'].apply(util.lemmatize)"
   ]
  },
  {
   "cell_type": "code",
   "execution_count": null,
   "metadata": {
    "id": "U8-MJlY6J4_j"
   },
   "outputs": [],
   "source": [
    "data.to_csv('Processed_Transaction_Narations.csv')"
   ]
  }
 ],
 "metadata": {
  "accelerator": "GPU",
  "colab": {
   "gpuType": "T4",
   "private_outputs": true,
   "provenance": []
  },
  "gpuClass": "standard",
  "kernelspec": {
   "display_name": "Python 3",
   "language": "python",
   "name": "python3"
  },
  "language_info": {
   "codemirror_mode": {
    "name": "ipython",
    "version": 3
   },
   "file_extension": ".py",
   "mimetype": "text/x-python",
   "name": "python",
   "nbconvert_exporter": "python",
   "pygments_lexer": "ipython3",
   "version": "3.7.6"
  }
 },
 "nbformat": 4,
 "nbformat_minor": 1
}
